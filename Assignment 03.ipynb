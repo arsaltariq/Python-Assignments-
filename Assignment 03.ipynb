{
 "cells": [
  {
   "cell_type": "code",
   "execution_count": 8,
   "metadata": {},
   "outputs": [
    {
     "name": "stdout",
     "output_type": "stream",
     "text": [
      "Enter first number: 12\n",
      "Enter second number: 15\n",
      "Enter Operation: +\n",
      "Result 27\n"
     ]
    }
   ],
   "source": [
    "#Assignment 03\n",
    "#Certified Python Programming\n",
    "#Arsal Tariq \n",
    "#Program 01 \n",
    "\n",
    "Num1 = int(input(\"Enter first number: \"))\n",
    "Num2 = int(input(\"Enter second number: \"))\n",
    "Operator = input(\"Enter Operation: \")\n",
    "\n",
    "if Operator == \"+\":             #For Addition \n",
    "    print(\"Result\", Num1 + Num2)\n",
    "elif Operator == \"-\":           #For Subtraction\n",
    "    print(\"Result\", Num1 - Num2)\n",
    "elif Operator == \"/\":           #For Division\n",
    "    print(\"Result\", Num1 / Num2)\n",
    "elif Operator == \"*\":           #For Multiplication\n",
    "    print(\"Result\", Num1 * Num2)\n",
    "elif Operator == \"**\":          #For Power \n",
    "    print(\"Result\", Num1 ** Num2)\n",
    "else:\n",
    "    print(\"Unsupported Operator\")"
   ]
  },
  {
   "cell_type": "code",
   "execution_count": 30,
   "metadata": {},
   "outputs": [
    {
     "name": "stdout",
     "output_type": "stream",
     "text": [
      "Initial List:  [1, 2, 3, 'a', 'b', 'c', 'Arsal', 5]\n",
      "Numeric value found, which is 1\n",
      "Numeric value found, which is 2\n",
      "Numeric value found, which is 3\n",
      "Numeric value found, which is 5\n"
     ]
    }
   ],
   "source": [
    "#Program 02\n",
    "\n",
    "LIST = [1,2,3,\"a\",\"b\",\"c\", \"Arsal\", 5]\n",
    "LIST = str(LIST)\n",
    "print(\"Initial List: \", str(LIST))\n",
    "for i in LIST:\n",
    "    if i.isnumeric():\n",
    "        print(\"Numeric value found, which is\", i)"
   ]
  },
  {
   "cell_type": "code",
   "execution_count": 34,
   "metadata": {},
   "outputs": [
    {
     "name": "stdout",
     "output_type": "stream",
     "text": [
      "Initial dictionary:  {1, 2}\n",
      "After adding new keys:  {1, 2, 3, 4, 5}\n"
     ]
    }
   ],
   "source": [
    "#Program 03\n",
    "\n",
    "Dict = {1,2}\n",
    "print(\"Initial dictionary: \" ,Dict)\n",
    "New = {3,4,5}\n",
    "Dict.update(New)\n",
    "print(\"After adding new keys: \", Dict)"
   ]
  },
  {
   "cell_type": "code",
   "execution_count": 43,
   "metadata": {},
   "outputs": [
    {
     "name": "stdout",
     "output_type": "stream",
     "text": [
      "Original Dictionary:  {'a': 250, 'b': 250, 'c': 5}\n",
      "Sum is:  505\n"
     ]
    }
   ],
   "source": [
    "#Program 04\n",
    "\n",
    "def Sum(Dict):\n",
    "    SUM = 0\n",
    "    for i in Dict.values():\n",
    "        SUM = SUM + i\n",
    "    return SUM \n",
    "\n",
    "Dict = {'a':250, \"b\":250, \"c\":5}\n",
    "print(\"Original Dictionary: \" ,Dict)\n",
    "print(\"Sum is: \", Sum(Dict))"
   ]
  },
  {
   "cell_type": "code",
   "execution_count": 53,
   "metadata": {},
   "outputs": [
    {
     "name": "stdout",
     "output_type": "stream",
     "text": [
      "Original List: [1, 1, 2, 3, 4, 5, 5, 6, 6, 6, 7, 8, 8, 9] Original Length:  14\n",
      "After removing duplicates: {1, 2, 3, 4, 5, 6, 7, 8, 9} Length Now: 9\n"
     ]
    }
   ],
   "source": [
    "#Program 05\n",
    "\n",
    "lst = [1,1,2,3,4,5,5,6,6,6,7,8,8,9]\n",
    "print(\"Original List:\", lst, \"Original Length: \", len(lst))\n",
    "lst = set(lst)\n",
    "print(\"After removing duplicates:\", lst, \"Length Now:\", len(lst))"
   ]
  },
  {
   "cell_type": "code",
   "execution_count": 64,
   "metadata": {},
   "outputs": [
    {
     "name": "stdout",
     "output_type": "stream",
     "text": [
      "Original Dictionary {1: 10, 2: 20, 3: 30, 4: 40, 5: 50, 6: 60}\n",
      "Match found\n"
     ]
    }
   ],
   "source": [
    "#Program 06\n",
    "\n",
    "Dict = {1: 10, 2: 20, 3: 30, 4: 40, 5: 50, 6: 60}\n",
    "print(\"Original Dictionary\", Dict)\n",
    "def AlreadyExist(x):\n",
    "    if x in Dict:\n",
    "        print(\"Match found\")\n",
    "    else:\n",
    "        print(\"Key not found\")\n",
    "AlreadyExist(2)\n",
    "\n",
    "    "
   ]
  }
 ],
 "metadata": {
  "kernelspec": {
   "display_name": "Python 3",
   "language": "python",
   "name": "python3"
  },
  "language_info": {
   "codemirror_mode": {
    "name": "ipython",
    "version": 3
   },
   "file_extension": ".py",
   "mimetype": "text/x-python",
   "name": "python",
   "nbconvert_exporter": "python",
   "pygments_lexer": "ipython3",
   "version": "3.7.0"
  }
 },
 "nbformat": 4,
 "nbformat_minor": 2
}
