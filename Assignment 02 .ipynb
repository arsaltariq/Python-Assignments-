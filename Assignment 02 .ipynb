{
 "cells": [
  {
   "cell_type": "code",
   "execution_count": 4,
   "metadata": {},
   "outputs": [
    {
     "name": "stdout",
     "output_type": "stream",
     "text": [
      "Enter the marks of first subject: 67\n",
      "Enter the marks of second subject: 89\n",
      "Enter the marks of third subject: 79\n",
      "Enter the marks of fourth subject: 55\n",
      "Enter the marks of fifth subject: 89\n",
      "Total : 379\n",
      "Grade C\n"
     ]
    }
   ],
   "source": [
    "#Certified Python Programming (Saylani)\n",
    "#Assignment 02\n",
    "\n",
    "#Program 01 \n",
    "Sub01 = int(input(\"Enter the marks of first subject: \"))\n",
    "Sub02 = int(input(\"Enter the marks of second subject: \"))\n",
    "Sub03 = int(input(\"Enter the marks of third subject: \"))\n",
    "Sub04 = int(input(\"Enter the marks of fourth subject: \"))\n",
    "Sub05 = int(input(\"Enter the marks of fifth subject: \"))\n",
    "total = Sub01 + Sub02 + Sub03 + Sub04 + Sub05\n",
    "print(\"Total :\" , total)\n",
    "avg = total/5\n",
    "if avg > 90:\n",
    "    print(\"Grade A\")\n",
    "elif avg > 80:\n",
    "    print(\"Grade B\")\n",
    "elif avg > 70:\n",
    "    print(\"Grade C\")\n",
    "else:\n",
    "    print(\"Grade F\")"
   ]
  },
  {
   "cell_type": "code",
   "execution_count": 6,
   "metadata": {},
   "outputs": [
    {
     "name": "stdout",
     "output_type": "stream",
     "text": [
      "Enter a number: 2\n",
      "This is an EVEN Number\n"
     ]
    }
   ],
   "source": [
    "#Program 02\n",
    "num = int(input(\"Enter a number: \"))\n",
    "modulus = num % 2\n",
    "if modulus > 0:\n",
    "    print(\"This is anODD number\")\n",
    "else:\n",
    "    print(\"This is an EVEN Number\")"
   ]
  },
  {
   "cell_type": "code",
   "execution_count": 10,
   "metadata": {},
   "outputs": [
    {
     "name": "stdout",
     "output_type": "stream",
     "text": [
      "Length of list 6\n"
     ]
    }
   ],
   "source": [
    "#Program 03\n",
    "List = [1,2,3,4,5,6]\n",
    "LengthOfList = len(List)\n",
    "print(\"Length of list\", LengthOfList)"
   ]
  },
  {
   "cell_type": "code",
   "execution_count": 9,
   "metadata": {},
   "outputs": [
    {
     "name": "stdout",
     "output_type": "stream",
     "text": [
      "Sum of numbers:  21\n"
     ]
    }
   ],
   "source": [
    "#Program 04\n",
    "List = [1,2,3,4,5,6]\n",
    "SUM = sum(List)\n",
    "print(\"Sum of numbers: \", SUM)"
   ]
  },
  {
   "cell_type": "code",
   "execution_count": 11,
   "metadata": {},
   "outputs": [
    {
     "name": "stdout",
     "output_type": "stream",
     "text": [
      "Largest Number:  6\n"
     ]
    }
   ],
   "source": [
    "#Program 05\n",
    "List = [1,2,3,4,5,6]\n",
    "MAX = max(List)\n",
    "print(\"Largest Number: \", MAX)"
   ]
  },
  {
   "cell_type": "code",
   "execution_count": 17,
   "metadata": {},
   "outputs": [
    {
     "name": "stdout",
     "output_type": "stream",
     "text": [
      "Elements lesser than 5 are [1, 1, 2, 3]\n"
     ]
    }
   ],
   "source": [
    "#Program 06\n",
    "LIST = [1, 1, 2, 3, 5, 8, 13, 21, 34, 55, 89]\n",
    "empty_list = []\n",
    "for x in LIST:\n",
    "    if x < 5:\n",
    "        empty_list.append(x)\n",
    "print(\"Elements lesser than 5 are\", empty_list)"
   ]
  }
 ],
 "metadata": {
  "kernelspec": {
   "display_name": "Python 3",
   "language": "python",
   "name": "python3"
  }
 },
 "nbformat": 4,
 "nbformat_minor": 2
}
