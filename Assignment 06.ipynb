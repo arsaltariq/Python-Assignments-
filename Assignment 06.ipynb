{
 "cells": [
  {
   "cell_type": "markdown",
   "metadata": {},
   "source": [
    "# Python Assignment 06 "
   ]
  },
  {
   "cell_type": "markdown",
   "metadata": {},
   "source": [
    "## Question 01"
   ]
  },
  {
   "cell_type": "markdown",
   "metadata": {},
   "source": [
    "## Object Oriented Programming Language"
   ]
  },
  {
   "cell_type": "markdown",
   "metadata": {},
   "source": [
    "#### Object oriented programming converts a design into a working program. Object oriented programming uses objects, classes, subclasses etc to make programming easier and faster. It is a fundamental in modern computer science."
   ]
  },
  {
   "cell_type": "markdown",
   "metadata": {},
   "source": [
    "## Question 02"
   ]
  },
  {
   "cell_type": "markdown",
   "metadata": {},
   "source": [
    "## Benefits of OOP"
   ]
  },
  {
   "cell_type": "markdown",
   "metadata": {},
   "source": [
    "#### Reusability of code \n",
    "#### Maintainance of code \n",
    "#### Portable \n",
    "#### Extensible \n",
    "#### Real-time sytems \n",
    "#### Recycling of code \n",
    "#### Simplicity "
   ]
  },
  {
   "cell_type": "markdown",
   "metadata": {},
   "source": [
    "## Question 03 "
   ]
  },
  {
   "cell_type": "markdown",
   "metadata": {},
   "source": [
    "## Function "
   ]
  },
  {
   "cell_type": "markdown",
   "metadata": {},
   "source": [
    "#### A function performs a specific task and returns a value. A function is a type of procedure or routine. "
   ]
  },
  {
   "cell_type": "markdown",
   "metadata": {},
   "source": [
    "## Method"
   ]
  },
  {
   "cell_type": "markdown",
   "metadata": {},
   "source": [
    "#### A method, like a function, is a set of instructions that perform a task. The difference is that a method is associated with an object, while a function is not."
   ]
  },
  {
   "cell_type": "markdown",
   "metadata": {},
   "source": [
    "## Question 04"
   ]
  },
  {
   "cell_type": "markdown",
   "metadata": {},
   "source": [
    "## Class"
   ]
  },
  {
   "cell_type": "markdown",
   "metadata": {},
   "source": [
    "#### Class is the blueprint, it describes the object. A class is one of the defining ideas of object oriented programming."
   ]
  },
  {
   "cell_type": "markdown",
   "metadata": {},
   "source": [
    "## Object"
   ]
  },
  {
   "cell_type": "markdown",
   "metadata": {},
   "source": [
    "#### An object is a self contained component which consists of methods and properties. An object can be data structure, or a function."
   ]
  },
  {
   "cell_type": "markdown",
   "metadata": {},
   "source": [
    "## Attribute"
   ]
  },
  {
   "cell_type": "markdown",
   "metadata": {},
   "source": [
    "#### An attribute is an element that takes a value and is associated with an object."
   ]
  },
  {
   "cell_type": "markdown",
   "metadata": {},
   "source": [
    "## Behavior"
   ]
  },
  {
   "cell_type": "markdown",
   "metadata": {},
   "source": [
    "#### A class's behavior determines how an instance of that class operates."
   ]
  },
  {
   "cell_type": "markdown",
   "metadata": {},
   "source": [
    "## Question 05"
   ]
  },
  {
   "cell_type": "code",
   "execution_count": 23,
   "metadata": {},
   "outputs": [
    {
     "name": "stdout",
     "output_type": "stream",
     "text": [
      "Model Reborn\n",
      "Color Grey\n",
      "Name Civic\n",
      "Acceleration 205\n",
      "Breaks 200\n"
     ]
    }
   ],
   "source": [
    "#creating class\n",
    "class Car:\n",
    "    \n",
    "    #class constructor\n",
    "    def __init__(self, model, color, name, year, speed):\n",
    "        self.model = model\n",
    "        self.color = color\n",
    "        self.name = name\n",
    "        self.year = year\n",
    "        self.speed = 200\n",
    "        \n",
    "    def GetModel(self):\n",
    "        return self.model\n",
    "    \n",
    "    def GetColor(self):\n",
    "        return self.color\n",
    "    \n",
    "    def GetName(self):\n",
    "        return self.name\n",
    "    \n",
    "    def accelerates(self):\n",
    "        self.speed += 5\n",
    "        return self.speed\n",
    "        \n",
    "    def breaks(self):\n",
    "        self.speed -= 5\n",
    "        return self.speed\n",
    "        \n",
    "    \n",
    "#creating objects        \n",
    "obj = Car(\"Reborn\", \"Grey\", \"Civic\", \"2019\", \"200\")\n",
    "print(\"Model\", obj.GetModel())\n",
    "print(\"Color\", obj.GetColor())\n",
    "print(\"Name\", obj.GetName())\n",
    "print(\"Acceleration\", obj.accelerates())\n",
    "print(\"Breaks\", obj.breaks())"
   ]
  },
  {
   "cell_type": "code",
   "execution_count": null,
   "metadata": {},
   "outputs": [],
   "source": []
  }
 ],
 "metadata": {
  "kernelspec": {
   "display_name": "Python 3",
   "language": "python",
   "name": "python3"
  },
  "language_info": {
   "codemirror_mode": {
    "name": "ipython",
    "version": 3
   },
   "file_extension": ".py",
   "mimetype": "text/x-python",
   "name": "python",
   "nbconvert_exporter": "python",
   "pygments_lexer": "ipython3",
   "version": "3.7.0"
  }
 },
 "nbformat": 4,
 "nbformat_minor": 2
}
