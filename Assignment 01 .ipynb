{
 "cells": [
  {
   "cell_type": "code",
   "execution_count": 9,
   "metadata": {},
   "outputs": [
    {
     "name": "stdout",
     "output_type": "stream",
     "text": [
      "Twinkle, twinkle, little star, \n",
      "\t How I wonder what you are! \n",
      "\t\tUp above the world so high, \n",
      "\t\tLike a diamond in the sky. \n",
      "Twinkle, twinkle, little star,\n",
      "\t How I wonder what you are!\n"
     ]
    }
   ],
   "source": [
    "#Certified Python Programming (Saylani)\n",
    "#Assignment 01\n",
    "\n",
    "#Program 01\n",
    "\n",
    "print(\"Twinkle, twinkle, little star, \\n\\t How I wonder what you are! \\n\\t\\tUp above the world so high, \\n\\t\\tLike a diamond in the sky. \\nTwinkle, twinkle, little star,\\n\\t How I wonder what you are!\")"
   ]
  },
  {
   "cell_type": "code",
   "execution_count": 12,
   "metadata": {},
   "outputs": [
    {
     "name": "stdout",
     "output_type": "stream",
     "text": [
      "I'm currently using version 3.7.0\n"
     ]
    }
   ],
   "source": [
    "#Program 02\n",
    "import platform \n",
    "print(\"I'm currently using version\" , platform.python_version())"
   ]
  },
  {
   "cell_type": "code",
   "execution_count": 13,
   "metadata": {},
   "outputs": [
    {
     "name": "stdout",
     "output_type": "stream",
     "text": [
      "Current date and time: \n",
      "2019-11-17/21:37:51\n"
     ]
    }
   ],
   "source": [
    "#Program 03\n",
    "import datetime\n",
    "now = datetime.datetime.now()\n",
    "print(\"Current date and time: \")\n",
    "print(now.strftime(\"%Y-%m-%d/%H:%M:%S\"))"
   ]
  },
  {
   "cell_type": "code",
   "execution_count": 14,
   "metadata": {},
   "outputs": [
    {
     "name": "stdout",
     "output_type": "stream",
     "text": [
      "Enter the radius of the circle: 2\n",
      "The area of the circle with radius 2.0 is: 12.566370614359172\n"
     ]
    }
   ],
   "source": [
    "#Program 04\n",
    "from math import pi\n",
    "r = float(input(\"Enter the radius of the circle: \"))\n",
    "print(\"The area of the circle with radius \" + str(r) + \" is: \" + str(pi * r ** 2))"
   ]
  },
  {
   "cell_type": "code",
   "execution_count": 17,
   "metadata": {},
   "outputs": [
    {
     "name": "stdout",
     "output_type": "stream",
     "text": [
      "Enter Your First Name: Arsal \n",
      "Enter Your Last Name: Tariq\n",
      "Name in reverse order:  Tariq Arsal \n"
     ]
    }
   ],
   "source": [
    "#Program 05\n",
    "First = input(\"Enter Your First Name: \")\n",
    "Last = input(\"Enter Your Last Name: \")\n",
    "print(\"Name in reverse order: \", Last + \" \" + First)"
   ]
  },
  {
   "cell_type": "code",
   "execution_count": 18,
   "metadata": {},
   "outputs": [
    {
     "name": "stdout",
     "output_type": "stream",
     "text": [
      "Enter first number: 2\n",
      "Enter first number: 5\n",
      "Addition:  7\n"
     ]
    }
   ],
   "source": [
    "#Program 06\n",
    "Fnum = int(input(\"Enter first number: \"))\n",
    "Lnum = int(input(\"Enter first number: \"))\n",
    "Addition = Fnum + Lnum\n",
    "print(\"Addition: \" , Addition)"
   ]
  }
 ],
 "metadata": {
  "kernelspec": {
   "display_name": "Python 3",
   "language": "python",
   "name": "python3"
  },
  "language_info": {
   "codemirror_mode": {
    "name": "ipython",
    "version": 3
   },
   "file_extension": ".py",
   "mimetype": "text/x-python",
   "name": "python",
   "nbconvert_exporter": "python",
   "pygments_lexer": "ipython3",
   "version": "3.7.0"
  }
 },
 "nbformat": 4,
 "nbformat_minor": 2
}
