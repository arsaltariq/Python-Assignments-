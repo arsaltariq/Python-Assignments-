{
 "cells": [
  {
   "cell_type": "code",
   "execution_count": 2,
   "metadata": {},
   "outputs": [
    {
     "name": "stdout",
     "output_type": "stream",
     "text": [
      "{'first_name': 'Arsal', 'last_name': 'Tariq', 'age': 19, 'city': 'Karachi'}\n",
      "{'first_name': 'Arsal', 'last_name': 'Tariq', 'age': 19, 'city': 'Karachi', 'Qualification': 'Bachelors'}\n",
      "{'first_name': 'Arsal', 'last_name': 'Tariq', 'age': 19, 'city': 'Karachi', 'Qualification': 'Masters'}\n",
      "{'first_name': 'Arsal', 'last_name': 'Tariq', 'age': 19, 'city': 'Karachi'}\n"
     ]
    }
   ],
   "source": [
    "#Certified Python Programming\n",
    "#Assignment 04\n",
    "\n",
    "#Question 01\n",
    "\n",
    "#Creating person dictionary to store information\n",
    "\n",
    "person = {\n",
    "    \n",
    "    'first_name' : 'Arsal',\n",
    "    'last_name'  : 'Tariq',\n",
    "    'age'        :  19,\n",
    "    'city'       : 'Karachi',\n",
    "    \n",
    "    }\n",
    "#Printing out all information\n",
    "print (person)\n",
    "\n",
    "#Adding a new academic key\n",
    "person['Qualification']='Bachelors'  \n",
    "print (person)\n",
    "\n",
    "#Updating academic level\n",
    "person[\"Qualification\"] = \"Masters\"\n",
    "print(person)\n",
    "\n",
    "#Deleting the \"Qualification\" Key\n",
    "del person['Qualification']\n",
    "print (person)"
   ]
  },
  {
   "cell_type": "code",
   "execution_count": 6,
   "metadata": {},
   "outputs": [
    {
     "name": "stdout",
     "output_type": "stream",
     "text": [
      "Islamabad is in Pakistan.\n",
      "\n",
      "  It has a population of about 14910352.\n",
      "\n",
      "Eleventh ranked in the world.\n",
      "\n",
      "Melbourne is in Australia.\n",
      "\n",
      "  It has a population of about 82003882.\n",
      "\n",
      "Second  ranked in the world.\n",
      "\n",
      "Washingtondc is in America.\n",
      "\n",
      "  It has a population of about 13105289.\n",
      "\n",
      "First ranked in the world.\n",
      "\n"
     ]
    }
   ],
   "source": [
    "#Question 02\n",
    "\n",
    "#Creating citites dictionary to store information\n",
    "cities = {\n",
    "    \n",
    "    'Islamabad': {\n",
    "        \n",
    "        'country': 'Pakistan',\n",
    "        'population':14910352,\n",
    "        'rank': 'eleventh',\n",
    "        },\n",
    "    \n",
    "    'Melbourne': {\n",
    "        'country': 'Australia',\n",
    "        'population': 82003882 ,\n",
    "        'rank': 'second ',\n",
    "        },\n",
    "    \n",
    "    'WashingtonDc': {\n",
    "        'country': 'America',\n",
    "        'population': 13105289 ,\n",
    "        'rank': 'first',\n",
    "        }\n",
    "    }\n",
    "\n",
    "for city, city_data in cities.items():\n",
    "    country = city_data['country'].title()\n",
    "    population = city_data['population']\n",
    "    rank = city_data['rank'].title()\n",
    "    \n",
    "    #printing out all the information\n",
    "    print(city.title() + \" is in \" + country + \".\")\n",
    "    print()\n",
    "    print(\"  It has a population of about \" + str(population) + \".\")\n",
    "    print()\n",
    "    print(rank + \" ranked in the world.\")\n",
    "    print()"
   ]
  },
  {
   "cell_type": "code",
   "execution_count": 20,
   "metadata": {},
   "outputs": [
    {
     "name": "stdout",
     "output_type": "stream",
     "text": [
      "Welcome! How old are you? 5\n",
      "The ticket is $10.\n"
     ]
    }
   ],
   "source": [
    "#Question 03\n",
    "\n",
    "age = int(input(\"Welcome! How old are you? \"))\n",
    "     \n",
    "if age < 3:\n",
    "    print(\"The ticket is free!\")\n",
    "elif age > 3 and age < 13:\n",
    "    print(\"The ticket is $10.\")\n",
    "else:\n",
    "    print(\"The ticket is $15.\")"
   ]
  },
  {
   "cell_type": "code",
   "execution_count": 23,
   "metadata": {},
   "outputs": [
    {
     "data": {
      "text/plain": [
       "'Crusaders is one of my favorite books.'"
      ]
     },
     "execution_count": 23,
     "metadata": {},
     "output_type": "execute_result"
    }
   ],
   "source": [
    "#Question 04\n",
    "\n",
    "def favorite_book(title):\n",
    "    return title + \" is one of my favorite books.\"\n",
    "\n",
    "favorite_book(\"Crusaders\")"
   ]
  },
  {
   "cell_type": "code",
   "execution_count": 8,
   "metadata": {},
   "outputs": [
    {
     "name": "stdout",
     "output_type": "stream",
     "text": [
      "HINT\n",
      "Try a number between 1 and 10\n",
      "Guess the number: 2\n",
      "You guessed WRONG\n",
      "Better luck next time! Bye\n",
      "Guess the number: 6\n",
      "You guessed WRONG\n",
      "Better luck next time! Bye\n",
      "Guess the number: 9\n",
      "You guessed RIGHT\n"
     ]
    }
   ],
   "source": [
    "#Question 05\n",
    "\n",
    "import random\n",
    "\n",
    "random = random.randint(1,30)\n",
    "\n",
    "print(\"HINT\")\n",
    "if random >= 1 and random < 10:\n",
    "    print(\"Try a number between 1 and 10\")\n",
    "    \n",
    "elif random >= 10 and random < 20:\n",
    "    print(\"Try a number between 10 and 20\")\n",
    "    \n",
    "elif random >= 20 and random < 30:\n",
    "    print(\"Try a number between 20 and 30\")\n",
    "    \n",
    "for i in range(0,3):\n",
    "    num = int(input(\"Guess the number: \"))\n",
    "    if num < 1 or num > 30:\n",
    "        print(\"Try a number between 1 and 30\")\n",
    "    else:\n",
    "        if num == random:\n",
    "            print(\"You guessed RIGHT\")\n",
    "            break\n",
    "        else:\n",
    "            print(\"You guessed WRONG\")\n",
    "            print(\"Better luck next time! Bye\")"
   ]
  }
 ],
 "metadata": {
  "kernelspec": {
   "display_name": "Python 3",
   "language": "python",
   "name": "python3"
  },
  "language_info": {
   "codemirror_mode": {
    "name": "ipython",
    "version": 3
   },
   "file_extension": ".py",
   "mimetype": "text/x-python",
   "name": "python",
   "nbconvert_exporter": "python",
   "pygments_lexer": "ipython3",
   "version": "3.7.0"
  }
 },
 "nbformat": 4,
 "nbformat_minor": 2
}
