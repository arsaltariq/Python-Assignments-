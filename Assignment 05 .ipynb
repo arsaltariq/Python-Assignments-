{
 "cells": [
  {
   "cell_type": "code",
   "execution_count": 5,
   "metadata": {},
   "outputs": [
    {
     "name": "stdout",
     "output_type": "stream",
     "text": [
      "Factorial of 5 is:  120\n",
      "Factorail of 6 is:  720\n"
     ]
    }
   ],
   "source": [
    "#Certified Python Programming\n",
    "#Arsal Tariq\n",
    "#Assignment 05\n",
    "\n",
    "#Question 01\n",
    "\n",
    "def Factorial(n):\n",
    "    #base case (using recursion)\n",
    "    if n == 1:\n",
    "        return 1\n",
    "    else:\n",
    "        return n * Factorial(n-1)\n",
    "    \n",
    "print(\"Factorial of 5 is: \" ,Factorial(5))\n",
    "print(\"Factorail of 6 is: \" ,Factorial(6))"
   ]
  },
  {
   "cell_type": "code",
   "execution_count": 15,
   "metadata": {},
   "outputs": [
    {
     "name": "stdout",
     "output_type": "stream",
     "text": [
      "Number of upper case letters:  61 \n",
      "Number of lower case letters:  13\n"
     ]
    }
   ],
   "source": [
    "#Question 02\n",
    "\n",
    "def UpDown(string):\n",
    "    LowerCase = 0\n",
    "    UpperCase = 0\n",
    "    \n",
    "    for i in string:\n",
    "        if i.isupper():\n",
    "            UpperCase += 1\n",
    "        elif i.islower():\n",
    "            LowerCase += 1\n",
    "            \n",
    "    print(\"Number of upper case letters: \" ,LowerCase,\n",
    "          \"\\nNumber of lower case letters: \" ,UpperCase)\n",
    "\n",
    "#TestString  \n",
    "UpDown(\"My Name Is Arsal, I'm Currently Studying Python From Certified Python Programming Course\")"
   ]
  },
  {
   "cell_type": "code",
   "execution_count": 37,
   "metadata": {},
   "outputs": [
    {
     "name": "stdout",
     "output_type": "stream",
     "text": [
      "Even numbers are:\n",
      "2\n",
      "4\n",
      "6\n",
      "8\n",
      "10\n"
     ]
    }
   ],
   "source": [
    "#Question 03\n",
    "\n",
    "def EvenNumbers(lst):\n",
    "    for num in lst:\n",
    "        if num % 2 == 0:\n",
    "            print(num)\n",
    "            \n",
    "print(\"Even numbers are:\")\n",
    "EvenNumbers([1,2,3,4,5,6,7,8,9,10])  "
   ]
  },
  {
   "cell_type": "code",
   "execution_count": 36,
   "metadata": {},
   "outputs": [
    {
     "name": "stdout",
     "output_type": "stream",
     "text": [
      "Yes, the string is in palindrome.\n"
     ]
    }
   ],
   "source": [
    "#Question 04\n",
    "\n",
    "def Palindrome(string):\n",
    "    if string == string[::-1]:\n",
    "        print(\"Yes, the string is in palindrome.\")\n",
    "            \n",
    "Palindrome(\"MadaM\")"
   ]
  },
  {
   "cell_type": "code",
   "execution_count": 39,
   "metadata": {},
   "outputs": [
    {
     "data": {
      "text/plain": [
       "False"
      ]
     },
     "execution_count": 39,
     "metadata": {},
     "output_type": "execute_result"
    }
   ],
   "source": [
    "#Question 05\n",
    "\n",
    "def Prime(num):\n",
    "    if (num == 1):\n",
    "        return False\n",
    "    elif (num == 2):\n",
    "        return True;\n",
    "    else:\n",
    "        for x in range(2 ,num):\n",
    "            if(num % x == 0):\n",
    "                return False\n",
    "        return True     \n",
    "Prime(9)"
   ]
  },
  {
   "cell_type": "code",
   "execution_count": 43,
   "metadata": {},
   "outputs": [
    {
     "name": "stdout",
     "output_type": "stream",
     "text": [
      "Enter the items to be bought: Apples\n",
      "Enter the items to be bought: Shoes\n",
      "Enter the items to be bought: Chair\n",
      "Items bought are: \n",
      "Apples Shoes Chair\n"
     ]
    }
   ],
   "source": [
    "#Question 06\n",
    "\n",
    "def ShoppingList():\n",
    "    item01 = input(\"Enter the items to be bought: \")\n",
    "    item02 = input(\"Enter the items to be bought: \")\n",
    "    item03 = input(\"Enter the items to be bought: \")\n",
    "    print(\"Items bought are: \")\n",
    "    print(item01,item02,item03)\n",
    "ShoppingList()"
   ]
  }
 ],
 "metadata": {
  "kernelspec": {
   "display_name": "Python 3",
   "language": "python",
   "name": "python3"
  },
  "language_info": {
   "codemirror_mode": {
    "name": "ipython",
    "version": 3
   },
   "file_extension": ".py",
   "mimetype": "text/x-python",
   "name": "python",
   "nbconvert_exporter": "python",
   "pygments_lexer": "ipython3",
   "version": "3.7.0"
  }
 },
 "nbformat": 4,
 "nbformat_minor": 2
}
